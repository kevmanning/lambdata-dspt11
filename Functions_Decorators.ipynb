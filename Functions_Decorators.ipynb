{
 "cells": [
  {
   "cell_type": "code",
   "execution_count": 97,
   "id": "a81d83ec",
   "metadata": {},
   "outputs": [],
   "source": [
    "# passing in function to functions"
   ]
  },
  {
   "cell_type": "code",
   "execution_count": 98,
   "id": "1944402d",
   "metadata": {},
   "outputs": [],
   "source": [
    "def say_hello(name):\n",
    "    return f\"Hello {name}\"\n",
    "\n",
    "def be_awesome(name):\n",
    "    return f\"We are awesome {name}\"\n",
    "\n",
    "def greet_bob(greeter_func):\n",
    "    return greeter_func(\"Bob\")"
   ]
  },
  {
   "cell_type": "code",
   "execution_count": 99,
   "id": "1c1491fe",
   "metadata": {},
   "outputs": [],
   "source": [
    "# def greet_bob(greeter_func = say_hello)"
   ]
  },
  {
   "cell_type": "code",
   "execution_count": 100,
   "id": "2a173098",
   "metadata": {},
   "outputs": [
    {
     "data": {
      "text/plain": [
       "'Hello Bob'"
      ]
     },
     "execution_count": 100,
     "metadata": {},
     "output_type": "execute_result"
    }
   ],
   "source": [
    "greet_bob(say_hello)"
   ]
  },
  {
   "cell_type": "code",
   "execution_count": 101,
   "id": "f523c9ea",
   "metadata": {},
   "outputs": [
    {
     "data": {
      "text/plain": [
       "'Hello Bob'"
      ]
     },
     "execution_count": 101,
     "metadata": {},
     "output_type": "execute_result"
    }
   ],
   "source": [
    "greet_bob(say_hello)"
   ]
  },
  {
   "cell_type": "code",
   "execution_count": 102,
   "id": "dc8d8f79",
   "metadata": {},
   "outputs": [
    {
     "data": {
      "text/plain": [
       "'We are awesome Bob'"
      ]
     },
     "execution_count": 102,
     "metadata": {},
     "output_type": "execute_result"
    }
   ],
   "source": [
    "greet_bob(be_awesome)"
   ]
  },
  {
   "cell_type": "code",
   "execution_count": 103,
   "id": "fd368f3d",
   "metadata": {},
   "outputs": [],
   "source": [
    "# Nested functions"
   ]
  },
  {
   "cell_type": "code",
   "execution_count": 110,
   "id": "1df8a750",
   "metadata": {},
   "outputs": [],
   "source": [
    "def parent():\n",
    "    print(\"Printing from the parent() function\")\n",
    "    \n",
    "    def cranky_child():\n",
    "        print (\"Printing from the first_child function\")\n",
    "    \n",
    "    def sad_child():\n",
    "        print (\"Printing from the second_child function\")\n",
    "        \n",
    "    def happy_child():\n",
    "        print (\"Printing from the third_child function\")\n",
    "        \n",
    "    sad_child()\n",
    "    happy_child()\n",
    "    cranky_child()"
   ]
  },
  {
   "cell_type": "code",
   "execution_count": 111,
   "id": "57b1cd1b",
   "metadata": {},
   "outputs": [
    {
     "name": "stdout",
     "output_type": "stream",
     "text": [
      "Printing from the parent() function\n",
      "Printing from the second_child function\n",
      "Printing from the third_child function\n",
      "Printing from the first_child function\n"
     ]
    }
   ],
   "source": [
    "parent()"
   ]
  },
  {
   "cell_type": "code",
   "execution_count": 112,
   "id": "ca9c2e84",
   "metadata": {},
   "outputs": [
    {
     "ename": "NameError",
     "evalue": "name 'happy_child' is not defined",
     "output_type": "error",
     "traceback": [
      "\u001b[0;31m---------------------------------------------------------------------------\u001b[0m",
      "\u001b[0;31mNameError\u001b[0m                                 Traceback (most recent call last)",
      "\u001b[0;32m/var/folders/fr/ft4wtbks3ynf0gpsw2j3jtdw0000gn/T/ipykernel_6837/695917383.py\u001b[0m in \u001b[0;36m<module>\u001b[0;34m\u001b[0m\n\u001b[0;32m----> 1\u001b[0;31m \u001b[0mhappy_child\u001b[0m\u001b[0;34m(\u001b[0m\u001b[0;34m)\u001b[0m\u001b[0;34m\u001b[0m\u001b[0;34m\u001b[0m\u001b[0m\n\u001b[0m",
      "\u001b[0;31mNameError\u001b[0m: name 'happy_child' is not defined"
     ]
    }
   ],
   "source": [
    "happy_child()"
   ]
  },
  {
   "cell_type": "code",
   "execution_count": 113,
   "id": "0cf2c864",
   "metadata": {},
   "outputs": [
    {
     "ename": "NameError",
     "evalue": "name 'sad_child' is not defined",
     "output_type": "error",
     "traceback": [
      "\u001b[0;31m---------------------------------------------------------------------------\u001b[0m",
      "\u001b[0;31mNameError\u001b[0m                                 Traceback (most recent call last)",
      "\u001b[0;32m/var/folders/fr/ft4wtbks3ynf0gpsw2j3jtdw0000gn/T/ipykernel_6837/3986313749.py\u001b[0m in \u001b[0;36m<module>\u001b[0;34m\u001b[0m\n\u001b[0;32m----> 1\u001b[0;31m \u001b[0msad_child\u001b[0m\u001b[0;34m(\u001b[0m\u001b[0;34m)\u001b[0m\u001b[0;34m\u001b[0m\u001b[0;34m\u001b[0m\u001b[0m\n\u001b[0m",
      "\u001b[0;31mNameError\u001b[0m: name 'sad_child' is not defined"
     ]
    }
   ],
   "source": [
    "sad_child()"
   ]
  },
  {
   "cell_type": "code",
   "execution_count": 114,
   "id": "c2fd91a7",
   "metadata": {},
   "outputs": [
    {
     "ename": "NameError",
     "evalue": "name 'cranky_child' is not defined",
     "output_type": "error",
     "traceback": [
      "\u001b[0;31m---------------------------------------------------------------------------\u001b[0m",
      "\u001b[0;31mNameError\u001b[0m                                 Traceback (most recent call last)",
      "\u001b[0;32m/var/folders/fr/ft4wtbks3ynf0gpsw2j3jtdw0000gn/T/ipykernel_6837/2534480664.py\u001b[0m in \u001b[0;36m<module>\u001b[0;34m\u001b[0m\n\u001b[0;32m----> 1\u001b[0;31m \u001b[0mcranky_child\u001b[0m\u001b[0;34m\u001b[0m\u001b[0;34m\u001b[0m\u001b[0m\n\u001b[0m",
      "\u001b[0;31mNameError\u001b[0m: name 'cranky_child' is not defined"
     ]
    }
   ],
   "source": [
    "cranky_child"
   ]
  },
  {
   "cell_type": "code",
   "execution_count": 176,
   "id": "5fd1cc35",
   "metadata": {},
   "outputs": [],
   "source": [
    "def my_decorator1(func):\n",
    "    def wrapper1():\n",
    "        print(\"Something is happening BEFORE the function is called\")\n",
    "        func()\n",
    "        print(\"Something is happening AFTER the function is called\")\n",
    "    return wrapper\n",
    "\n",
    "def say_whee1():\n",
    "    print(\"WHEEEEEEEE!\")\n",
    "\n",
    "say_whee1 = my_decorator(say_whee)"
   ]
  },
  {
   "cell_type": "code",
   "execution_count": 177,
   "id": "6abbf50e",
   "metadata": {},
   "outputs": [
    {
     "name": "stdout",
     "output_type": "stream",
     "text": [
      "Something is happening BEFORE the function is called\n",
      "Go Wheeeeeeeee!!\n",
      "Something is happening AFTER the function is called\n"
     ]
    }
   ],
   "source": [
    "say_whee1()"
   ]
  },
  {
   "cell_type": "code",
   "execution_count": 178,
   "id": "857f1afb",
   "metadata": {},
   "outputs": [],
   "source": [
    "@my_decorator\n",
    "def say_whee1():\n",
    "    print(\"Go Wheeeeeee!!!\")"
   ]
  },
  {
   "cell_type": "code",
   "execution_count": 179,
   "id": "e1f2b4ab",
   "metadata": {},
   "outputs": [
    {
     "name": "stdout",
     "output_type": "stream",
     "text": [
      "Something is happening BEFORE the function is called\n",
      "Go Wheeeeeee!!!\n",
      "Something is happening AFTER the function is called\n"
     ]
    }
   ],
   "source": [
    "say_whee1()"
   ]
  }
 ],
 "metadata": {
  "kernelspec": {
   "display_name": "Python 3 (ipykernel)",
   "language": "python",
   "name": "python3"
  },
  "language_info": {
   "codemirror_mode": {
    "name": "ipython",
    "version": 3
   },
   "file_extension": ".py",
   "mimetype": "text/x-python",
   "name": "python",
   "nbconvert_exporter": "python",
   "pygments_lexer": "ipython3",
   "version": "3.8.2"
  }
 },
 "nbformat": 4,
 "nbformat_minor": 5
}
